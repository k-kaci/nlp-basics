{
 "cells": [
  {
   "cell_type": "markdown",
   "metadata": {},
   "source": [
    "# Setup"
   ]
  },
  {
   "cell_type": "code",
   "execution_count": null,
   "metadata": {},
   "outputs": [],
   "source": [
    "import numpy as np\n",
    "import pandas as pd\n",
    "%matplotlib inline\n",
    "import matplotlib.pyplot as plt\n",
    "import seaborn as sns\n",
    "\n",
    "\n",
    "import re\n",
    "\n",
    "import nltk \n",
    "from nltk import word_tokenize\n",
    "from nltk.corpus import stopwords\n",
    "from nltk.stem.porter import PorterStemmer\n",
    "\n",
    "from sklearn.preprocessing.label import MultiLabelBinarizer\n",
    "from sklearn.feature_extraction.text import TfidfVectorizer"
   ]
  },
  {
   "cell_type": "markdown",
   "metadata": {},
   "source": [
    "# Load the data"
   ]
  },
  {
   "cell_type": "code",
   "execution_count": 2,
   "metadata": {},
   "outputs": [
    {
     "name": "stdout",
     "output_type": "stream",
     "text": [
      "Done!\n"
     ]
    }
   ],
   "source": [
    "filelist = ['reuters-000.json',\n",
    "            'reuters-001.json',\n",
    "            'reuters-002.json',\n",
    "            'reuters-003.json',\n",
    "            'reuters-004.json',\n",
    "            'reuters-005.json',\n",
    "            'reuters-006.json',\n",
    "            'reuters-007.json',\n",
    "            'reuters-008.json',\n",
    "            'reuters-009.json',\n",
    "            'reuters-010.json',\n",
    "            'reuters-011.json',\n",
    "            'reuters-012.json',\n",
    "            'reuters-013.json',\n",
    "            'reuters-014.json',\n",
    "            'reuters-015.json',\n",
    "            'reuters-016.json',\n",
    "            'reuters-017.json',\n",
    "            'reuters-018.json',\n",
    "            'reuters-019.json',\n",
    "            'reuters-020.json',\n",
    "            'reuters-021.json']\n",
    "data_set = pd.DataFrame()\n",
    "for fname in filelist:\n",
    "  df = pd.read_json('data/reuters-21578-json/'+fname).T\n",
    "  data_set = data_set.append(df)\n",
    "  \n",
    "data_set = data_set.fillna('')\n",
    "print(\"Done!\") "
   ]
  },
  {
   "cell_type": "code",
   "execution_count": 3,
   "metadata": {},
   "outputs": [
    {
     "data": {
      "text/html": [
       "<div>\n",
       "<style scoped>\n",
       "    .dataframe tbody tr th:only-of-type {\n",
       "        vertical-align: middle;\n",
       "    }\n",
       "\n",
       "    .dataframe tbody tr th {\n",
       "        vertical-align: top;\n",
       "    }\n",
       "\n",
       "    .dataframe thead th {\n",
       "        text-align: right;\n",
       "    }\n",
       "</style>\n",
       "<table border=\"1\" class=\"dataframe\">\n",
       "  <thead>\n",
       "    <tr style=\"text-align: right;\">\n",
       "      <th></th>\n",
       "      <th>title</th>\n",
       "      <th>body</th>\n",
       "      <th>date</th>\n",
       "      <th>topics</th>\n",
       "      <th>places</th>\n",
       "      <th>organisations</th>\n",
       "    </tr>\n",
       "  </thead>\n",
       "  <tbody>\n",
       "    <tr>\n",
       "      <th>1</th>\n",
       "      <td>BAHIA COCOA REVIEW</td>\n",
       "      <td>Showers continued throughout the week in\\nthe ...</td>\n",
       "      <td>26-FEB-1987 15:01:01.79</td>\n",
       "      <td>[cocoa]</td>\n",
       "      <td>[el-salvador, usa, uruguay]</td>\n",
       "      <td></td>\n",
       "    </tr>\n",
       "    <tr>\n",
       "      <th>2</th>\n",
       "      <td>STANDARD OIL &lt;SRD&gt; TO FORM FINANCIAL UNIT</td>\n",
       "      <td>Standard Oil Co and BP North America\\nInc said...</td>\n",
       "      <td>26-FEB-1987 15:02:20.00</td>\n",
       "      <td></td>\n",
       "      <td>[usa]</td>\n",
       "      <td></td>\n",
       "    </tr>\n",
       "    <tr>\n",
       "      <th>3</th>\n",
       "      <td>TEXAS COMMERCE BANCSHARES &lt;TCB&gt; FILES PLAN</td>\n",
       "      <td>Texas Commerce Bancshares Inc's Texas\\nCommerc...</td>\n",
       "      <td>26-FEB-1987 15:03:27.51</td>\n",
       "      <td></td>\n",
       "      <td>[usa]</td>\n",
       "      <td></td>\n",
       "    </tr>\n",
       "    <tr>\n",
       "      <th>4</th>\n",
       "      <td>TALKING POINT/BANKAMERICA &lt;BAC&gt; EQUITY OFFER</td>\n",
       "      <td>BankAmerica Corp is not under\\npressure to act...</td>\n",
       "      <td>26-FEB-1987 15:07:13.72</td>\n",
       "      <td></td>\n",
       "      <td>[usa, brazil]</td>\n",
       "      <td></td>\n",
       "    </tr>\n",
       "    <tr>\n",
       "      <th>5</th>\n",
       "      <td>NATIONAL AVERAGE PRICES FOR FARMER-OWNED RESERVE</td>\n",
       "      <td>The U.S. Agriculture Department\\nreported the ...</td>\n",
       "      <td>26-FEB-1987 15:10:44.60</td>\n",
       "      <td>[grain, wheat, corn, barley, oat, sorghum]</td>\n",
       "      <td>[usa]</td>\n",
       "      <td></td>\n",
       "    </tr>\n",
       "  </tbody>\n",
       "</table>\n",
       "</div>"
      ],
      "text/plain": [
       "                                              title  \\\n",
       "1                                BAHIA COCOA REVIEW   \n",
       "2         STANDARD OIL <SRD> TO FORM FINANCIAL UNIT   \n",
       "3        TEXAS COMMERCE BANCSHARES <TCB> FILES PLAN   \n",
       "4      TALKING POINT/BANKAMERICA <BAC> EQUITY OFFER   \n",
       "5  NATIONAL AVERAGE PRICES FOR FARMER-OWNED RESERVE   \n",
       "\n",
       "                                                body                     date  \\\n",
       "1  Showers continued throughout the week in\\nthe ...  26-FEB-1987 15:01:01.79   \n",
       "2  Standard Oil Co and BP North America\\nInc said...  26-FEB-1987 15:02:20.00   \n",
       "3  Texas Commerce Bancshares Inc's Texas\\nCommerc...  26-FEB-1987 15:03:27.51   \n",
       "4  BankAmerica Corp is not under\\npressure to act...  26-FEB-1987 15:07:13.72   \n",
       "5  The U.S. Agriculture Department\\nreported the ...  26-FEB-1987 15:10:44.60   \n",
       "\n",
       "                                       topics                       places  \\\n",
       "1                                     [cocoa]  [el-salvador, usa, uruguay]   \n",
       "2                                                                    [usa]   \n",
       "3                                                                    [usa]   \n",
       "4                                                            [usa, brazil]   \n",
       "5  [grain, wheat, corn, barley, oat, sorghum]                        [usa]   \n",
       "\n",
       "  organisations  \n",
       "1                \n",
       "2                \n",
       "3                \n",
       "4                \n",
       "5                "
      ]
     },
     "execution_count": 3,
     "metadata": {},
     "output_type": "execute_result"
    }
   ],
   "source": [
    "data_set.head()"
   ]
  },
  {
   "cell_type": "code",
   "execution_count": 4,
   "metadata": {},
   "outputs": [
    {
     "name": "stdout",
     "output_type": "stream",
     "text": [
      "<class 'pandas.core.frame.DataFrame'>\n",
      "Int64Index: 21578 entries, 1 to 21578\n",
      "Data columns (total 6 columns):\n",
      " #   Column         Non-Null Count  Dtype \n",
      "---  ------         --------------  ----- \n",
      " 0   title          21578 non-null  object\n",
      " 1   body           21578 non-null  object\n",
      " 2   date           21578 non-null  object\n",
      " 3   topics         21578 non-null  object\n",
      " 4   places         21578 non-null  object\n",
      " 5   organisations  21578 non-null  object\n",
      "dtypes: object(6)\n",
      "memory usage: 1.2+ MB\n"
     ]
    }
   ],
   "source": [
    "data_set.info()"
   ]
  },
  {
   "cell_type": "markdown",
   "metadata": {},
   "source": [
    "# Exploratory Data Analysis"
   ]
  },
  {
   "cell_type": "markdown",
   "metadata": {},
   "source": [
    "Extracting metadata and the text bodyfrom each document in the corpus."
   ]
  },
  {
   "cell_type": "code",
   "execution_count": 5,
   "metadata": {},
   "outputs": [],
   "source": [
    "topics =set([x for sublist in data_set['topics'].values.tolist() for x in sublist])\n",
    "places = set([x for sublist in data_set['places'].values.tolist() for x in sublist])\n",
    "orgs = set([x for sublist in data_set['organisations'].values.tolist() for x in sublist])"
   ]
  },
  {
   "cell_type": "code",
   "execution_count": 6,
   "metadata": {},
   "outputs": [],
   "source": [
    "data_set['topic_count']=data_set['topics'].apply(lambda x:len([y for y in x]))\n",
    "\n",
    "#data_set['organisations'].apply(tuple).value_counts()[1:15].plot(kind='bar',title=\"Document Count by Organization\")\n"
   ]
  },
  {
   "cell_type": "code",
   "execution_count": 7,
   "metadata": {},
   "outputs": [
    {
     "name": "stdout",
     "output_type": "stream",
     "text": [
      "documents with at least one topic =  11367\n",
      "max number of topics in one document =  16\n",
      "topics =  120\n",
      "places =  147\n",
      "organizations =  32\n"
     ]
    }
   ],
   "source": [
    "print(\"documents with at least one topic = \",len(data_set[data_set['topic_count']>0]))\n",
    "print(\"max number of topics in one document = \",data_set['topic_count'].max())\n",
    "print('topics = ',len(topics))\n",
    "print('places = ',len(places))\n",
    "print('organizations = ',len(orgs))"
   ]
  },
  {
   "cell_type": "code",
   "execution_count": 87,
   "metadata": {},
   "outputs": [],
   "source": [
    "def plot_document_count(data_set, by='organisations', id_min=1, id_max=15, message='' ):\n",
    "    docs = data_set[by].apply(tuple).value_counts()[id_min:id_max].reset_index()\n",
    "    docs.rename(columns={'index':by, by:'Document Count'}, inplace=True)\n",
    "    sns.barplot(x=by, y='Document Count', data=docs)\n",
    "    plt.xticks(rotation=60)\n",
    "    plt.title('Document Count by '+ by + ' ' +message)"
   ]
  },
  {
   "cell_type": "code",
   "execution_count": 88,
   "metadata": {},
   "outputs": [
    {
     "data": {
      "image/png": "[encoded data removed]",
      "text/plain": [
       "<Figure size 432x288 with 1 Axes>"
      ]
     },
     "metadata": {
      "needs_background": "light"
     },
     "output_type": "display_data"
    }
   ],
   "source": [
    "plot_document_count(data_set,by='organisations')"
   ]
  },
  {
   "cell_type": "code",
   "execution_count": 91,
   "metadata": {},
   "outputs": [
    {
     "data": {
      "image/png": "[encoded data removed]",
      "text/plain": [
       "<Figure size 432x288 with 1 Axes>"
      ]
     },
     "metadata": {
      "needs_background": "light"
     },
     "output_type": "display_data"
    }
   ],
   "source": [
    "plot_document_count(data_set,by='places', id_min=2, id_max=15, message='outside US')"
   ]
  },
  {
   "cell_type": "code",
   "execution_count": 92,
   "metadata": {},
   "outputs": [
    {
     "data": {
      "image/png": "[encoded data removed]",
      "text/plain": [
       "<Figure size 432x288 with 1 Axes>"
      ]
     },
     "metadata": {
      "needs_background": "light"
     },
     "output_type": "display_data"
    }
   ],
   "source": [
    "plot_document_count(data_set,by='topics', id_min=1, id_max=15)"
   ]
  },
  {
   "cell_type": "markdown",
   "metadata": {},
   "source": [
    "# Text normalization"
   ]
  },
  {
   "cell_type": "code",
   "execution_count": null,
   "metadata": {},
   "outputs": [],
   "source": [
    "nltk.download('punkt')\n",
    "nltk.download('stopwords', 'data')\n",
    "nltk.data.path.append('data')"
   ]
  },
  {
   "cell_type": "code",
   "execution_count": null,
   "metadata": {},
   "outputs": [],
   "source": [
    "ml_binarizer = MultiLabelBinarizer()\n",
    "data_target = ml_binarizer.fit_transform(data_set['topics'])\n",
    "\n",
    "stopWords = stopwords.words('english')\n",
    "\n",
    "charfilter = re.compile('[a-zA-Z]+');\n",
    "\n",
    "def SimpleTokenizer(text):\n",
    "    #tokenization\n",
    "    words = map(lambda word: word.lower(), word_tokenize(text))\n",
    "    #Remouve stop words\n",
    "    words = [word for word in words if word not in stopWords]\n",
    "    #Stemming (remove morphological affixes from tokens)\n",
    "    tokens = (list(map(lambda token: PorterStemmer().stem(token),words)))\n",
    "    ntokens = list(filter(lambda token:charfilter.match(token),tokens))\n",
    "    return ntokens\n",
    "\n",
    "vec = TfidfVectorizer(tokenizer=SimpleTokenizer,\n",
    "                        max_features=1000,\n",
    "                        norm='l2')\n",
    "\n",
    "mytopics = ['cocoa','trade','money-supply','coffee','gold']\n",
    "data_set = data_set[data_set['topics'].map(set(mytopics).intersection).apply(lambda x: len(x)>0)]\n",
    "docs = list(data_set['body'].values)\n",
    "\n",
    "dtm = vec.fit_transform(docs)\n",
    "\n",
    "print(\"Number of documents with my topics = \",len(data_set))\n"
   ]
  },
  {
   "cell_type": "markdown",
   "metadata": {},
   "source": [
    "# Text Clustering"
   ]
  },
  {
   "cell_type": "code",
   "execution_count": null,
   "metadata": {},
   "outputs": [],
   "source": [
    "from sklearn.decomposition import PCA\n",
    "\n",
    "explained_var = []\n",
    "for components in range(1,100,5):\n",
    "  pca = PCA(n_components=components)\n",
    "  pca.fit(dtm.toarray())\n",
    "  explained_var.append(pca.explained_variance_ratio_.sum())\n",
    "\n",
    "plt.plot(range(1,100,5),explained_var,\"ro\")\n",
    "plt.xlabel(\"Number of Components\")\n",
    "plt.ylabel(\"Proportion of Explained Variance\")"
   ]
  },
  {
   "cell_type": "code",
   "execution_count": null,
   "metadata": {},
   "outputs": [],
   "source": [
    "from sklearn.decomposition import PCA\n",
    "import seaborn as sns\n",
    "\n",
    "components = 60\n",
    "\n",
    "palette = np.array(sns.color_palette(\"hls\", 120))\n",
    "\n",
    "pca = PCA(n_components=components)\n",
    "pca.fit(dtm.toarray())\n",
    "pca_dtm = pca.transform(dtm.toarray())\n",
    "data_target = ml_binarizer.fit_transform(data_set[u'topics'])\n",
    "plt.scatter(pca_dtm[:,0],pca_dtm[:,1],c=palette[data_target.argmax(axis=1).astype(int)])\n",
    "\n",
    "explained_variance = pca.explained_variance_ratio_.sum()\n",
    "print(\"Explained variance of the PCA step: {}%\".format(\n",
    "    int(explained_variance * 100)))"
   ]
  },
  {
   "cell_type": "code",
   "execution_count": null,
   "metadata": {},
   "outputs": [],
   "source": [
    "from sklearn.cluster import KMeans\n",
    "palette = np.array(sns.color_palette(\"hls\", 5))\n",
    "\n",
    "model = KMeans(n_clusters=5,max_iter=100)\n",
    "clustered = model.fit(pca_dtm)\n",
    "centroids = model.cluster_centers_\n",
    "y = model.predict(pca_dtm)\n",
    "\n",
    "ax = plt.subplot()\n",
    "sc = ax.scatter(pca_dtm[:,0],pca_dtm[:,1],c=palette[y.astype(np.int)])"
   ]
  },
  {
   "cell_type": "code",
   "execution_count": null,
   "metadata": {},
   "outputs": [],
   "source": [
    "palette = np.array(sns.color_palette(\"hls\", 5))\n",
    "\n",
    "gold_labels = data_set['topics'].map(set(mytopics).intersection).apply(lambda x: x.pop()).apply(lambda x: mytopics.index(x))\n",
    "\n",
    "ax = plt.subplot()\n",
    "sc = ax.scatter(pca_dtm[:,0],pca_dtm[:,1],c=palette[gold_labels])"
   ]
  },
  {
   "cell_type": "markdown",
   "metadata": {},
   "source": [
    "# Topic Modeling"
   ]
  },
  {
   "cell_type": "code",
   "execution_count": null,
   "metadata": {},
   "outputs": [],
   "source": [
    "from sklearn.decomposition import TruncatedSVD\n",
    "import seaborn as sns\n",
    "\n",
    "components = 60\n",
    "\n",
    "palette = np.array(sns.color_palette(\"hls\", 120))\n",
    "\n",
    "lsa = TruncatedSVD(n_components=components)\n",
    "lsa.fit(dtm)\n",
    "lsa_dtm = lsa.transform(dtm)\n",
    "\n",
    "plt.scatter(lsa_dtm[:,0],lsa_dtm[:,1],c=palette[data_target.argmax(axis=1).astype(int)])\n",
    "\n",
    "explained_variance = lsa.explained_variance_ratio_.sum()\n",
    "print(\"Explained variance of the SVD step: {}%\".format(\n",
    "    int(explained_variance * 100)))"
   ]
  },
  {
   "cell_type": "code",
   "execution_count": null,
   "metadata": {},
   "outputs": [],
   "source": []
  }
 ],
 "metadata": {
  "kernelspec": {
   "display_name": "Python 3",
   "language": "python",
   "name": "python3"
  },
  "language_info": {
   "codemirror_mode": {
    "name": "ipython",
    "version": 3
   },
   "file_extension": ".py",
   "mimetype": "text/x-python",
   "name": "python",
   "nbconvert_exporter": "python",
   "pygments_lexer": "ipython3",
   "version": "3.7.6"
  }
 },
 "nbformat": 4,
 "nbformat_minor": 4
}
